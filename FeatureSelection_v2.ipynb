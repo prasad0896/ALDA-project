{
 "cells": [
  {
   "cell_type": "code",
   "execution_count": 12,
   "metadata": {},
   "outputs": [],
   "source": [
    "import numpy as np\n",
    "import pandas as pd\n",
    "from sklearn.preprocessing import StandardScaler\n",
    "from sklearn.linear_model import LogisticRegressionCV\n",
    "from sklearn.model_selection import TimeSeriesSplit as tscv, train_test_split\n",
    "from sklearn.metrics import accuracy_score as acc, roc_curve,auc\n",
    "from mlxtend.feature_selection import SequentialFeatureSelector as sfs\n",
    "import matplotlib.pyplot as plt"
   ]
  },
  {
   "cell_type": "code",
   "execution_count": 3,
   "metadata": {},
   "outputs": [],
   "source": [
    "def result_to_numeric(x):\n",
    "    if x=='W' or x=='w':\n",
    "        return 1\n",
    "    elif x=='L' or x=='l':\n",
    "        return 0"
   ]
  },
  {
   "cell_type": "code",
   "execution_count": 4,
   "metadata": {},
   "outputs": [],
   "source": [
    "clf = LogisticRegressionCV(cv= tscv(n_splits = 5), random_state=42, solver='liblinear')"
   ]
  },
  {
   "cell_type": "markdown",
   "metadata": {},
   "source": [
    "## Begin working with offensive stats from 1999"
   ]
  },
  {
   "cell_type": "code",
   "execution_count": 4,
   "metadata": {},
   "outputs": [
    {
     "name": "stdout",
     "output_type": "stream",
     "text": [
      "   O_ORebDiff  O_DRebDiff  O_AsstDiff  O_PFDiff  O_STLDiff  O_TODiff  \\\n",
      "0   -1.769667    2.051210    0.033667 -1.729550  -1.554110 -0.695624   \n",
      "1   -2.674841    1.433272    1.387081 -1.988244  -0.818683 -0.764207   \n",
      "2   -3.010468    0.617938   -2.417292 -0.044347  -2.109150  0.617244   \n",
      "3    0.040682    1.381777    1.508282 -0.473039  -1.151707 -0.568256   \n",
      "4    0.620400    0.883994   -0.215469  0.827819  -2.414421 -1.773352   \n",
      "\n",
      "   O_BlkDiff  O_x3PPDiff  O_FGPDiff  O_FTPDiff  WL  \n",
      "0   0.522634    1.094776  -0.422496   0.895812   1  \n",
      "1   1.259683    0.707196   0.528830   1.760567   0  \n",
      "2  -2.465762    0.562039   1.514842   0.558170   1  \n",
      "3   3.109004    0.563554   0.106371  -1.577692   1  \n",
      "4   2.023533    0.283948   0.657435  -2.053512   1  \n",
      "Index(['O_ORebDiff', 'O_DRebDiff', 'O_AsstDiff', 'O_PFDiff', 'O_STLDiff',\n",
      "       'O_TODiff', 'O_BlkDiff', 'O_x3PPDiff', 'O_FGPDiff', 'O_FTPDiff', 'WL'],\n",
      "      dtype='object')\n"
     ]
    }
   ],
   "source": [
    "# Read data for dataset from '99 with offensive stats\n",
    "df = pd.read_csv('completeFinalDatasetFrom99_Pruned.csv', sep=',')\n",
    "df = df.drop(['Year','TeamA','TeamB'],axis=1)\n",
    "df['WL'] = df['WL'].apply(result_to_numeric)\n",
    "print(df.head())\n",
    "print(df.columns)"
   ]
  },
  {
   "cell_type": "code",
   "execution_count": 5,
   "metadata": {},
   "outputs": [],
   "source": [
    "# Train/test split\n",
    "X_train, X_test, y_train, y_test = train_test_split(\n",
    "    df.values[:,:-1],\n",
    "    df.values[:,-1],\n",
    "    test_size=0.30,\n",
    "    random_state=42,\n",
    "    shuffle=False)\n",
    "\n",
    "y_train = y_train.astype('int')\n",
    "y_test = y_test.astype('int')"
   ]
  },
  {
   "cell_type": "code",
   "execution_count": 6,
   "metadata": {},
   "outputs": [
    {
     "name": "stderr",
     "output_type": "stream",
     "text": [
      "[Parallel(n_jobs=1)]: Using backend SequentialBackend with 1 concurrent workers.\n",
      "[Parallel(n_jobs=1)]: Done   1 out of   1 | elapsed:    0.1s remaining:    0.0s\n",
      "[Parallel(n_jobs=1)]: Done  10 out of  10 | elapsed:    0.8s finished\n",
      "\n",
      "[2019-10-29 13:18:15] Features: 1/10 -- score: 0.72[Parallel(n_jobs=1)]: Using backend SequentialBackend with 1 concurrent workers.\n",
      "[Parallel(n_jobs=1)]: Done   1 out of   1 | elapsed:    0.1s remaining:    0.0s\n",
      "[Parallel(n_jobs=1)]: Done   9 out of   9 | elapsed:    0.7s finished\n",
      "\n",
      "[2019-10-29 13:18:16] Features: 2/10 -- score: 0.76[Parallel(n_jobs=1)]: Using backend SequentialBackend with 1 concurrent workers.\n",
      "[Parallel(n_jobs=1)]: Done   1 out of   1 | elapsed:    0.1s remaining:    0.0s\n",
      "[Parallel(n_jobs=1)]: Done   8 out of   8 | elapsed:    0.6s finished\n",
      "\n",
      "[2019-10-29 13:18:16] Features: 3/10 -- score: 0.78[Parallel(n_jobs=1)]: Using backend SequentialBackend with 1 concurrent workers.\n",
      "[Parallel(n_jobs=1)]: Done   1 out of   1 | elapsed:    0.1s remaining:    0.0s\n",
      "[Parallel(n_jobs=1)]: Done   7 out of   7 | elapsed:    0.6s finished\n",
      "\n",
      "[2019-10-29 13:18:17] Features: 4/10 -- score: 0.74[Parallel(n_jobs=1)]: Using backend SequentialBackend with 1 concurrent workers.\n",
      "[Parallel(n_jobs=1)]: Done   1 out of   1 | elapsed:    0.1s remaining:    0.0s\n",
      "[Parallel(n_jobs=1)]: Done   6 out of   6 | elapsed:    0.5s finished\n",
      "\n",
      "[2019-10-29 13:18:17] Features: 5/10 -- score: 0.76[Parallel(n_jobs=1)]: Using backend SequentialBackend with 1 concurrent workers.\n",
      "[Parallel(n_jobs=1)]: Done   1 out of   1 | elapsed:    0.1s remaining:    0.0s\n",
      "[Parallel(n_jobs=1)]: Done   5 out of   5 | elapsed:    0.6s finished\n",
      "\n",
      "[2019-10-29 13:18:18] Features: 6/10 -- score: 0.74[Parallel(n_jobs=1)]: Using backend SequentialBackend with 1 concurrent workers.\n",
      "[Parallel(n_jobs=1)]: Done   1 out of   1 | elapsed:    0.1s remaining:    0.0s\n",
      "[Parallel(n_jobs=1)]: Done   4 out of   4 | elapsed:    0.4s finished\n",
      "\n",
      "[2019-10-29 13:18:18] Features: 7/10 -- score: 0.76[Parallel(n_jobs=1)]: Using backend SequentialBackend with 1 concurrent workers.\n",
      "[Parallel(n_jobs=1)]: Done   1 out of   1 | elapsed:    0.1s remaining:    0.0s\n",
      "[Parallel(n_jobs=1)]: Done   3 out of   3 | elapsed:    0.2s finished\n",
      "\n",
      "[2019-10-29 13:18:18] Features: 8/10 -- score: 0.7[Parallel(n_jobs=1)]: Using backend SequentialBackend with 1 concurrent workers.\n",
      "[Parallel(n_jobs=1)]: Done   1 out of   1 | elapsed:    0.1s remaining:    0.0s\n",
      "[Parallel(n_jobs=1)]: Done   2 out of   2 | elapsed:    0.2s finished\n",
      "\n",
      "[2019-10-29 13:18:19] Features: 9/10 -- score: 0.72[Parallel(n_jobs=1)]: Using backend SequentialBackend with 1 concurrent workers.\n",
      "[Parallel(n_jobs=1)]: Done   1 out of   1 | elapsed:    0.1s remaining:    0.0s\n",
      "[Parallel(n_jobs=1)]: Done   1 out of   1 | elapsed:    0.1s finished\n",
      "\n",
      "[2019-10-29 13:18:19] Features: 10/10 -- score: 0.7"
     ]
    }
   ],
   "source": [
    "sfs1 = sfs(clf,\n",
    "           k_features='best',\n",
    "           scoring='accuracy',\n",
    "           verbose=2,\n",
    "           forward=True,\n",
    "           cv=tscv(n_splits = 5))\n",
    "\n",
    "#Perform SFFS\n",
    "sfs1 = sfs1.fit(X_train, y_train)"
   ]
  },
  {
   "cell_type": "code",
   "execution_count": 7,
   "metadata": {},
   "outputs": [
    {
     "name": "stdout",
     "output_type": "stream",
     "text": [
      "Best accuracy from sfs: 0.78\n",
      "Indices selected by sfs: (1, 3, 8)\n",
      "List of selected indices: Index(['O_DRebDiff', 'O_PFDiff', 'O_FGPDiff'], dtype='object')\n"
     ]
    }
   ],
   "source": [
    "print(\"Best accuracy from sfs:\", sfs1.k_score_)\n",
    "print(\"Indices selected by sfs:\", sfs1.k_feature_idx_)\n",
    "print(\"List of selected indices:\", df.columns[[x for x in (list(sfs1.k_feature_idx_))]])"
   ]
  },
  {
   "cell_type": "code",
   "execution_count": 8,
   "metadata": {},
   "outputs": [
    {
     "name": "stdout",
     "output_type": "stream",
     "text": [
      "Accuracy on test data set: 0.6666666666666666\n"
     ]
    }
   ],
   "source": [
    "#sfs lr acc\n",
    "clf.fit(X_train[:,list(sfs1.k_feature_idx_)],y_train)\n",
    "y_sfs_pred = clf.predict(X_test[:,list(sfs1.k_feature_idx_)])\n",
    "print(\"Accuracy on test data set:\",acc(y_sfs_pred,y_test))"
   ]
  },
  {
   "cell_type": "code",
   "execution_count": 9,
   "metadata": {},
   "outputs": [
    {
     "name": "stdout",
     "output_type": "stream",
     "text": [
      "Accuracy on test data set using all features: 0.7037037037037037\n"
     ]
    }
   ],
   "source": [
    "clf.fit(X_train[:,:],y_train)\n",
    "y_all_pred = clf.predict(X_test[:,:])\n",
    "print(\"Accuracy on test data set using all features:\",acc(y_all_pred,y_test))"
   ]
  },
  {
   "cell_type": "markdown",
   "metadata": {},
   "source": [
    "## Now working with only offensive stats from 1979"
   ]
  },
  {
   "cell_type": "code",
   "execution_count": 10,
   "metadata": {},
   "outputs": [
    {
     "name": "stdout",
     "output_type": "stream",
     "text": [
      "   O_ORebDiff  O_DRebDiff  O_AsstDiff  O_PFDiff  O_STLDiff  O_TODiff  \\\n",
      "0   -0.852744    0.220118    0.725228 -1.624636   0.502332  1.219331   \n",
      "1    0.624856    1.077818    0.657237 -0.524262   0.468844 -0.359382   \n",
      "2    1.771649   -2.261899   -0.802283 -1.013957   0.122792 -0.154021   \n",
      "3   -1.080633   -0.667943    0.113317 -0.190117   2.924691  2.104951   \n",
      "4    0.102917    1.480102    0.589247 -0.397517  -1.495834  0.064175   \n",
      "\n",
      "   O_BlkDiff  O_x3PMDiff  O_FGPDiff  O_FTPDiff  WL  \n",
      "0  -0.141657    0.239121   0.635920   1.072682   1  \n",
      "1  -0.519410    0.183512  -0.240265   0.886943   1  \n",
      "2   0.472191    0.289170  -0.764677  -1.223977   1  \n",
      "3   2.467195   -0.255804   1.423435   0.492501   1  \n",
      "4   2.384562   -0.266926   1.496380   0.085936   1  \n",
      "Index(['O_ORebDiff', 'O_DRebDiff', 'O_AsstDiff', 'O_PFDiff', 'O_STLDiff',\n",
      "       'O_TODiff', 'O_BlkDiff', 'O_x3PMDiff', 'O_FGPDiff', 'O_FTPDiff', 'WL'],\n",
      "      dtype='object')\n"
     ]
    }
   ],
   "source": [
    "# Read data\n",
    "df = pd.read_csv('completeFinalDatasetFrom79_OnlyO_Pruned.csv', sep=',')\n",
    "df = df.drop(['Year','TeamA','TeamB'],axis=1)\n",
    "df['WL'] = df['WL'].apply(result_to_numeric)\n",
    "print(df.head())\n",
    "print(df.columns)"
   ]
  },
  {
   "cell_type": "code",
   "execution_count": 11,
   "metadata": {},
   "outputs": [],
   "source": [
    "# Train/test split\n",
    "X_train_large, X_test_large, y_train_large, y_test_large = train_test_split(\n",
    "    df.values[:,:-1],\n",
    "    df.values[:,-1],\n",
    "    test_size=0.30,\n",
    "    random_state=42,\n",
    "    shuffle=False)\n",
    "\n",
    "y_train_large = y_train_large.astype('int')\n",
    "y_test_large = y_test_large.astype('int')"
   ]
  },
  {
   "cell_type": "code",
   "execution_count": 12,
   "metadata": {},
   "outputs": [
    {
     "name": "stderr",
     "output_type": "stream",
     "text": [
      "[Parallel(n_jobs=1)]: Using backend SequentialBackend with 1 concurrent workers.\n",
      "[Parallel(n_jobs=1)]: Done   1 out of   1 | elapsed:    0.2s remaining:    0.0s\n",
      "[Parallel(n_jobs=1)]: Done  10 out of  10 | elapsed:    1.1s finished\n",
      "\n",
      "[2019-10-29 13:18:20] Features: 1/10 -- score: 0.7441860465116279[Parallel(n_jobs=1)]: Using backend SequentialBackend with 1 concurrent workers.\n",
      "[Parallel(n_jobs=1)]: Done   1 out of   1 | elapsed:    0.1s remaining:    0.0s\n",
      "[Parallel(n_jobs=1)]: Done   9 out of   9 | elapsed:    0.8s finished\n",
      "[Parallel(n_jobs=1)]: Using backend SequentialBackend with 1 concurrent workers.\n",
      "[Parallel(n_jobs=1)]: Done   1 out of   1 | elapsed:    0.1s remaining:    0.0s\n",
      "[Parallel(n_jobs=1)]: Done   1 out of   1 | elapsed:    0.1s finished\n",
      "\n",
      "[2019-10-29 13:18:21] Features: 2/10 -- score: 0.7488372093023256[Parallel(n_jobs=1)]: Using backend SequentialBackend with 1 concurrent workers.\n",
      "[Parallel(n_jobs=1)]: Done   1 out of   1 | elapsed:    0.1s remaining:    0.0s\n",
      "[Parallel(n_jobs=1)]: Done   8 out of   8 | elapsed:    0.7s finished\n",
      "[Parallel(n_jobs=1)]: Using backend SequentialBackend with 1 concurrent workers.\n",
      "[Parallel(n_jobs=1)]: Done   1 out of   1 | elapsed:    0.1s remaining:    0.0s\n",
      "[Parallel(n_jobs=1)]: Done   2 out of   2 | elapsed:    0.2s finished\n",
      "\n",
      "[2019-10-29 13:18:22] Features: 3/10 -- score: 0.7441860465116279[Parallel(n_jobs=1)]: Using backend SequentialBackend with 1 concurrent workers.\n",
      "[Parallel(n_jobs=1)]: Done   1 out of   1 | elapsed:    0.1s remaining:    0.0s\n",
      "[Parallel(n_jobs=1)]: Done   7 out of   7 | elapsed:    0.7s finished\n",
      "[Parallel(n_jobs=1)]: Using backend SequentialBackend with 1 concurrent workers.\n",
      "[Parallel(n_jobs=1)]: Done   1 out of   1 | elapsed:    0.1s remaining:    0.0s\n",
      "[Parallel(n_jobs=1)]: Done   3 out of   3 | elapsed:    0.3s finished\n",
      "\n",
      "[2019-10-29 13:18:23] Features: 4/10 -- score: 0.7441860465116279[Parallel(n_jobs=1)]: Using backend SequentialBackend with 1 concurrent workers.\n",
      "[Parallel(n_jobs=1)]: Done   1 out of   1 | elapsed:    0.1s remaining:    0.0s\n",
      "[Parallel(n_jobs=1)]: Done   6 out of   6 | elapsed:    0.6s finished\n",
      "[Parallel(n_jobs=1)]: Using backend SequentialBackend with 1 concurrent workers.\n",
      "[Parallel(n_jobs=1)]: Done   1 out of   1 | elapsed:    0.1s remaining:    0.0s\n",
      "[Parallel(n_jobs=1)]: Done   4 out of   4 | elapsed:    0.4s finished\n",
      "\n",
      "[2019-10-29 13:18:24] Features: 5/10 -- score: 0.7348837209302326[Parallel(n_jobs=1)]: Using backend SequentialBackend with 1 concurrent workers.\n",
      "[Parallel(n_jobs=1)]: Done   1 out of   1 | elapsed:    0.1s remaining:    0.0s\n",
      "[Parallel(n_jobs=1)]: Done   5 out of   5 | elapsed:    0.5s finished\n",
      "[Parallel(n_jobs=1)]: Using backend SequentialBackend with 1 concurrent workers.\n",
      "[Parallel(n_jobs=1)]: Done   1 out of   1 | elapsed:    0.1s remaining:    0.0s\n",
      "[Parallel(n_jobs=1)]: Done   6 out of   6 | elapsed:    0.5s finished\n",
      "[Parallel(n_jobs=1)]: Using backend SequentialBackend with 1 concurrent workers.\n",
      "[Parallel(n_jobs=1)]: Done   1 out of   1 | elapsed:    0.1s remaining:    0.0s\n",
      "[Parallel(n_jobs=1)]: Done   5 out of   5 | elapsed:    0.5s finished\n",
      "\n",
      "[2019-10-29 13:18:25] Features: 5/10 -- score: 0.7395348837209302[Parallel(n_jobs=1)]: Using backend SequentialBackend with 1 concurrent workers.\n",
      "[Parallel(n_jobs=1)]: Done   1 out of   1 | elapsed:    0.1s remaining:    0.0s\n",
      "[Parallel(n_jobs=1)]: Done   5 out of   5 | elapsed:    0.5s finished\n",
      "[Parallel(n_jobs=1)]: Using backend SequentialBackend with 1 concurrent workers.\n",
      "[Parallel(n_jobs=1)]: Done   1 out of   1 | elapsed:    0.1s remaining:    0.0s\n",
      "[Parallel(n_jobs=1)]: Done   5 out of   5 | elapsed:    0.5s finished\n",
      "\n",
      "[2019-10-29 13:18:26] Features: 6/10 -- score: 0.7348837209302326[Parallel(n_jobs=1)]: Using backend SequentialBackend with 1 concurrent workers.\n",
      "[Parallel(n_jobs=1)]: Done   1 out of   1 | elapsed:    0.1s remaining:    0.0s\n",
      "[Parallel(n_jobs=1)]: Done   4 out of   4 | elapsed:    0.4s finished\n",
      "[Parallel(n_jobs=1)]: Using backend SequentialBackend with 1 concurrent workers.\n",
      "[Parallel(n_jobs=1)]: Done   1 out of   1 | elapsed:    0.1s remaining:    0.0s\n",
      "[Parallel(n_jobs=1)]: Done   6 out of   6 | elapsed:    0.6s finished\n",
      "\n",
      "[2019-10-29 13:18:27] Features: 7/10 -- score: 0.7255813953488371[Parallel(n_jobs=1)]: Using backend SequentialBackend with 1 concurrent workers.\n",
      "[Parallel(n_jobs=1)]: Done   1 out of   1 | elapsed:    0.1s remaining:    0.0s\n",
      "[Parallel(n_jobs=1)]: Done   3 out of   3 | elapsed:    0.3s finished\n",
      "[Parallel(n_jobs=1)]: Using backend SequentialBackend with 1 concurrent workers.\n",
      "[Parallel(n_jobs=1)]: Done   1 out of   1 | elapsed:    0.1s remaining:    0.0s\n",
      "[Parallel(n_jobs=1)]: Done   7 out of   7 | elapsed:    0.7s finished\n",
      "[Parallel(n_jobs=1)]: Using backend SequentialBackend with 1 concurrent workers.\n",
      "[Parallel(n_jobs=1)]: Done   1 out of   1 | elapsed:    0.1s remaining:    0.0s\n",
      "[Parallel(n_jobs=1)]: Done   6 out of   6 | elapsed:    0.6s finished\n",
      "\n",
      "[2019-10-29 13:18:29] Features: 7/10 -- score: 0.7302325581395348[Parallel(n_jobs=1)]: Using backend SequentialBackend with 1 concurrent workers.\n",
      "[Parallel(n_jobs=1)]: Done   1 out of   1 | elapsed:    0.1s remaining:    0.0s\n",
      "[Parallel(n_jobs=1)]: Done   3 out of   3 | elapsed:    0.3s finished\n",
      "[Parallel(n_jobs=1)]: Using backend SequentialBackend with 1 concurrent workers.\n",
      "[Parallel(n_jobs=1)]: Done   1 out of   1 | elapsed:    0.1s remaining:    0.0s\n",
      "[Parallel(n_jobs=1)]: Done   7 out of   7 | elapsed:    0.7s finished\n",
      "\n",
      "[2019-10-29 13:18:30] Features: 8/10 -- score: 0.7255813953488371[Parallel(n_jobs=1)]: Using backend SequentialBackend with 1 concurrent workers.\n",
      "[Parallel(n_jobs=1)]: Done   1 out of   1 | elapsed:    0.1s remaining:    0.0s\n",
      "[Parallel(n_jobs=1)]: Done   2 out of   2 | elapsed:    0.2s finished\n",
      "[Parallel(n_jobs=1)]: Using backend SequentialBackend with 1 concurrent workers.\n",
      "[Parallel(n_jobs=1)]: Done   1 out of   1 | elapsed:    0.1s remaining:    0.0s\n",
      "[Parallel(n_jobs=1)]: Done   8 out of   8 | elapsed:    0.8s finished\n",
      "\n",
      "[2019-10-29 13:18:31] Features: 9/10 -- score: 0.6837209302325582[Parallel(n_jobs=1)]: Using backend SequentialBackend with 1 concurrent workers.\n",
      "[Parallel(n_jobs=1)]: Done   1 out of   1 | elapsed:    0.1s remaining:    0.0s\n",
      "[Parallel(n_jobs=1)]: Done   1 out of   1 | elapsed:    0.1s finished\n",
      "[Parallel(n_jobs=1)]: Using backend SequentialBackend with 1 concurrent workers.\n",
      "[Parallel(n_jobs=1)]: Done   1 out of   1 | elapsed:    0.1s remaining:    0.0s\n",
      "[Parallel(n_jobs=1)]: Done   9 out of   9 | elapsed:    0.9s finished\n",
      "\n",
      "[2019-10-29 13:18:32] Features: 10/10 -- score: 0.6930232558139535"
     ]
    }
   ],
   "source": [
    "sfs2 = sfs(clf,\n",
    "           k_features='best',\n",
    "           scoring='accuracy',\n",
    "           forward=True,\n",
    "           verbose=2,\n",
    "           cv=tscv(n_splits = 5),\n",
    "           floating=True)\n",
    "\n",
    "#Perform SFFS\n",
    "sfs2 = sfs2.fit(X_train_large, y_train_large)"
   ]
  },
  {
   "cell_type": "code",
   "execution_count": 13,
   "metadata": {},
   "outputs": [
    {
     "name": "stdout",
     "output_type": "stream",
     "text": [
      "Best accuracy by sfs: 0.7488372093023256\n",
      "Indices selected by sfs: (7, 9)\n",
      "List of indices selected: Index(['O_x3PMDiff', 'O_FTPDiff'], dtype='object')\n"
     ]
    }
   ],
   "source": [
    "print(\"Best accuracy by sfs:\", sfs2.k_score_)\n",
    "print(\"Indices selected by sfs:\", sfs2.k_feature_idx_)\n",
    "print(\"List of indices selected:\", df.columns[[x for x in (list(sfs2.k_feature_idx_))]])"
   ]
  },
  {
   "cell_type": "code",
   "execution_count": 14,
   "metadata": {},
   "outputs": [
    {
     "name": "stdout",
     "output_type": "stream",
     "text": [
      "Accuracy on test data: 0.7168141592920354\n"
     ]
    }
   ],
   "source": [
    "#sfs lr acc\n",
    "clf.fit(X_train_large[:,list(sfs2.k_feature_idx_)],y_train_large)\n",
    "y_sfs_pred_large = clf.predict(X_test_large[:,list(sfs2.k_feature_idx_)])\n",
    "print(\"Accuracy on test data:\", acc(y_sfs_pred_large,y_test_large))"
   ]
  },
  {
   "cell_type": "code",
   "execution_count": 15,
   "metadata": {},
   "outputs": [
    {
     "name": "stdout",
     "output_type": "stream",
     "text": [
      "Accuracy on test data set using all features: 0.7522123893805309\n"
     ]
    }
   ],
   "source": [
    "clf.fit(X_train_large[:,:],y_train_large)\n",
    "y_all_pred_large = clf.predict(X_test_large[:,:])\n",
    "print(\"Accuracy on test data set using all features:\",acc(y_all_pred_large,y_test_large))"
   ]
  },
  {
   "cell_type": "markdown",
   "metadata": {},
   "source": [
    "## Now working with offensive and defensive stats from 1979"
   ]
  },
  {
   "cell_type": "code",
   "execution_count": 5,
   "metadata": {},
   "outputs": [
    {
     "name": "stdout",
     "output_type": "stream",
     "text": [
      "   O_ORebDiff  O_DRebDiff  O_AsstDiff  O_PFDiff  O_STLDiff  O_TODiff  \\\n",
      "0   -0.852744    0.220118    0.725228 -1.624636   0.502332  1.219331   \n",
      "1    0.624856    1.077818    0.657237 -0.524262   0.468844 -0.359382   \n",
      "2    1.771649   -2.261899   -0.802283 -1.013957   0.122792 -0.154021   \n",
      "3   -1.080633   -0.667943    0.113317 -0.190117   2.924691  2.104951   \n",
      "4    0.102917    1.480102    0.589247 -0.397517  -1.495834  0.064175   \n",
      "\n",
      "   O_BlkDiff  O_x3PMDiff  O_FGPDiff  O_FTPDiff  D_ORebDiff  D_DRebDiff  \\\n",
      "0  -0.141657    0.239121   0.635920   1.072682    0.663973   -1.368963   \n",
      "1  -0.519410    0.183512  -0.240265   0.886943    0.567872    0.354402   \n",
      "2   0.472191    0.289170  -0.764677  -1.223977    0.366933   -1.077103   \n",
      "3   2.467195   -0.255804   1.423435   0.492501    1.057116   -2.223696   \n",
      "4   2.384562   -0.266926   1.496380   0.085936    0.838703   -1.424555   \n",
      "\n",
      "   D_AsstDiff  D_PFDiff  D_BlkDiff  D_x3PMDiff  D_FTPDiff  WL  \n",
      "0    1.177983 -0.134638  -0.576137    0.362318  -0.717179   1  \n",
      "1    0.037999  0.750125  -0.032008    0.024564   0.717716   1  \n",
      "2   -1.491478 -0.916819  -0.464111   -0.184229   1.833909   1  \n",
      "3   -0.147248  1.275853  -2.096500    0.116679  -0.744617   1  \n",
      "4    1.415479 -1.224563  -0.112027   -0.135102   0.450549   1  \n",
      "Index(['O_ORebDiff', 'O_DRebDiff', 'O_AsstDiff', 'O_PFDiff', 'O_STLDiff',\n",
      "       'O_TODiff', 'O_BlkDiff', 'O_x3PMDiff', 'O_FGPDiff', 'O_FTPDiff',\n",
      "       'D_ORebDiff', 'D_DRebDiff', 'D_AsstDiff', 'D_PFDiff', 'D_BlkDiff',\n",
      "       'D_x3PMDiff', 'D_FTPDiff', 'WL'],\n",
      "      dtype='object')\n"
     ]
    }
   ],
   "source": [
    "# Read data\n",
    "df = pd.read_csv('completeFinalDatasetFrom79_Pruned.csv', sep=',')\n",
    "df = df.drop(['Year','TeamA','TeamB'],axis=1)\n",
    "df['WL'] = df['WL'].apply(result_to_numeric)\n",
    "print(df.head())\n",
    "print(df.columns)"
   ]
  },
  {
   "cell_type": "code",
   "execution_count": 6,
   "metadata": {},
   "outputs": [],
   "source": [
    "# Train/test split\n",
    "X_train_complete, X_test_complete, y_train_complete, y_test_complete = train_test_split(\n",
    "    df.values[:,:-1],\n",
    "    df.values[:,-1],\n",
    "    test_size=0.30,\n",
    "    random_state=42,\n",
    "    shuffle=False)\n",
    "\n",
    "y_train_complete = y_train_complete.astype('int')\n",
    "y_test_complete = y_test_complete.astype('int')"
   ]
  },
  {
   "cell_type": "code",
   "execution_count": 7,
   "metadata": {},
   "outputs": [
    {
     "name": "stderr",
     "output_type": "stream",
     "text": [
      "[Parallel(n_jobs=1)]: Using backend SequentialBackend with 1 concurrent workers.\n",
      "[Parallel(n_jobs=1)]: Done   1 out of   1 | elapsed:    0.2s remaining:    0.0s\n",
      "[Parallel(n_jobs=1)]: Done  17 out of  17 | elapsed:    1.6s finished\n",
      "\n",
      "[2019-11-11 10:13:14] Features: 1/17 -- score: 0.7441860465116279[Parallel(n_jobs=1)]: Using backend SequentialBackend with 1 concurrent workers.\n",
      "[Parallel(n_jobs=1)]: Done   1 out of   1 | elapsed:    0.1s remaining:    0.0s\n",
      "[Parallel(n_jobs=1)]: Done  16 out of  16 | elapsed:    1.4s finished\n",
      "\n",
      "[2019-11-11 10:13:15] Features: 2/17 -- score: 0.7488372093023256[Parallel(n_jobs=1)]: Using backend SequentialBackend with 1 concurrent workers.\n",
      "[Parallel(n_jobs=1)]: Done   1 out of   1 | elapsed:    0.3s remaining:    0.0s\n",
      "[Parallel(n_jobs=1)]: Done  15 out of  15 | elapsed:    1.6s finished\n",
      "\n",
      "[2019-11-11 10:13:17] Features: 3/17 -- score: 0.7441860465116279[Parallel(n_jobs=1)]: Using backend SequentialBackend with 1 concurrent workers.\n",
      "[Parallel(n_jobs=1)]: Done   1 out of   1 | elapsed:    0.1s remaining:    0.0s\n",
      "[Parallel(n_jobs=1)]: Done  14 out of  14 | elapsed:    1.2s finished\n",
      "\n",
      "[2019-11-11 10:13:18] Features: 4/17 -- score: 0.7441860465116279[Parallel(n_jobs=1)]: Using backend SequentialBackend with 1 concurrent workers.\n",
      "[Parallel(n_jobs=1)]: Done   1 out of   1 | elapsed:    0.1s remaining:    0.0s\n",
      "[Parallel(n_jobs=1)]: Done  13 out of  13 | elapsed:    1.2s finished\n",
      "\n",
      "[2019-11-11 10:13:19] Features: 5/17 -- score: 0.7488372093023256[Parallel(n_jobs=1)]: Using backend SequentialBackend with 1 concurrent workers.\n",
      "[Parallel(n_jobs=1)]: Done   1 out of   1 | elapsed:    0.1s remaining:    0.0s\n",
      "[Parallel(n_jobs=1)]: Done  12 out of  12 | elapsed:    1.1s finished\n",
      "\n",
      "[2019-11-11 10:13:20] Features: 6/17 -- score: 0.7488372093023256[Parallel(n_jobs=1)]: Using backend SequentialBackend with 1 concurrent workers.\n",
      "[Parallel(n_jobs=1)]: Done   1 out of   1 | elapsed:    0.1s remaining:    0.0s\n",
      "[Parallel(n_jobs=1)]: Done  11 out of  11 | elapsed:    1.1s finished\n",
      "\n",
      "[2019-11-11 10:13:21] Features: 7/17 -- score: 0.7627906976744186[Parallel(n_jobs=1)]: Using backend SequentialBackend with 1 concurrent workers.\n",
      "[Parallel(n_jobs=1)]: Done   1 out of   1 | elapsed:    0.1s remaining:    0.0s\n",
      "[Parallel(n_jobs=1)]: Done  10 out of  10 | elapsed:    1.0s finished\n",
      "\n",
      "[2019-11-11 10:13:22] Features: 8/17 -- score: 0.772093023255814[Parallel(n_jobs=1)]: Using backend SequentialBackend with 1 concurrent workers.\n",
      "[Parallel(n_jobs=1)]: Done   1 out of   1 | elapsed:    0.1s remaining:    0.0s\n",
      "[Parallel(n_jobs=1)]: Done   9 out of   9 | elapsed:    0.9s finished\n",
      "\n",
      "[2019-11-11 10:13:23] Features: 9/17 -- score: 0.772093023255814[Parallel(n_jobs=1)]: Using backend SequentialBackend with 1 concurrent workers.\n",
      "[Parallel(n_jobs=1)]: Done   1 out of   1 | elapsed:    0.1s remaining:    0.0s\n",
      "[Parallel(n_jobs=1)]: Done   8 out of   8 | elapsed:    1.1s finished\n",
      "\n",
      "[2019-11-11 10:13:24] Features: 10/17 -- score: 0.7674418604651163[Parallel(n_jobs=1)]: Using backend SequentialBackend with 1 concurrent workers.\n",
      "[Parallel(n_jobs=1)]: Done   1 out of   1 | elapsed:    0.1s remaining:    0.0s\n",
      "[Parallel(n_jobs=1)]: Done   7 out of   7 | elapsed:    1.1s finished\n",
      "\n",
      "[2019-11-11 10:13:25] Features: 11/17 -- score: 0.7441860465116279[Parallel(n_jobs=1)]: Using backend SequentialBackend with 1 concurrent workers.\n",
      "[Parallel(n_jobs=1)]: Done   1 out of   1 | elapsed:    0.1s remaining:    0.0s\n",
      "[Parallel(n_jobs=1)]: Done   6 out of   6 | elapsed:    0.7s finished\n",
      "\n",
      "[2019-11-11 10:13:26] Features: 12/17 -- score: 0.7441860465116279[Parallel(n_jobs=1)]: Using backend SequentialBackend with 1 concurrent workers.\n",
      "[Parallel(n_jobs=1)]: Done   1 out of   1 | elapsed:    0.1s remaining:    0.0s\n",
      "[Parallel(n_jobs=1)]: Done   5 out of   5 | elapsed:    0.6s finished\n",
      "\n",
      "[2019-11-11 10:13:27] Features: 13/17 -- score: 0.758139534883721[Parallel(n_jobs=1)]: Using backend SequentialBackend with 1 concurrent workers.\n",
      "[Parallel(n_jobs=1)]: Done   1 out of   1 | elapsed:    0.1s remaining:    0.0s\n",
      "[Parallel(n_jobs=1)]: Done   4 out of   4 | elapsed:    0.5s finished\n",
      "\n",
      "[2019-11-11 10:13:27] Features: 14/17 -- score: 0.7441860465116279[Parallel(n_jobs=1)]: Using backend SequentialBackend with 1 concurrent workers.\n",
      "[Parallel(n_jobs=1)]: Done   1 out of   1 | elapsed:    0.1s remaining:    0.0s\n",
      "[Parallel(n_jobs=1)]: Done   3 out of   3 | elapsed:    0.6s finished\n",
      "\n",
      "[2019-11-11 10:13:28] Features: 15/17 -- score: 0.7255813953488371[Parallel(n_jobs=1)]: Using backend SequentialBackend with 1 concurrent workers.\n",
      "[Parallel(n_jobs=1)]: Done   1 out of   1 | elapsed:    0.1s remaining:    0.0s\n",
      "[Parallel(n_jobs=1)]: Done   2 out of   2 | elapsed:    0.2s finished\n",
      "\n",
      "[2019-11-11 10:13:28] Features: 16/17 -- score: 0.7116279069767442[Parallel(n_jobs=1)]: Using backend SequentialBackend with 1 concurrent workers.\n",
      "[Parallel(n_jobs=1)]: Done   1 out of   1 | elapsed:    0.1s remaining:    0.0s\n",
      "[Parallel(n_jobs=1)]: Done   1 out of   1 | elapsed:    0.1s finished\n",
      "\n",
      "[2019-11-11 10:13:28] Features: 17/17 -- score: 0.7162790697674419"
     ]
    }
   ],
   "source": [
    "# Build step forward feature selection\n",
    "\n",
    "sfs3 = sfs(clf,\n",
    "           k_features='best',\n",
    "           scoring='accuracy',\n",
    "           forward=True,\n",
    "           verbose=2,\n",
    "           floating=False,\n",
    "           cv=tscv(n_splits = 5))\n",
    "\n",
    "#Perform SFFS\n",
    "sfs3 = sfs3.fit(X_train_complete, y_train_complete)"
   ]
  },
  {
   "cell_type": "code",
   "execution_count": 8,
   "metadata": {},
   "outputs": [
    {
     "name": "stdout",
     "output_type": "stream",
     "text": [
      "Best accuracy by sfs: 0.772093023255814\n",
      "Indices selected by sfs: (1, 4, 7, 9, 11, 12, 13, 14)\n",
      "List of indices selected: Index(['O_DRebDiff', 'O_STLDiff', 'O_x3PMDiff', 'O_FTPDiff', 'D_DRebDiff',\n",
      "       'D_AsstDiff', 'D_PFDiff', 'D_BlkDiff'],\n",
      "      dtype='object')\n"
     ]
    }
   ],
   "source": [
    "print(\"Best accuracy by sfs:\", sfs3.k_score_)\n",
    "print(\"Indices selected by sfs:\", sfs3.k_feature_idx_)\n",
    "print(\"List of indices selected:\", df.columns[[x for x in (list(sfs3.k_feature_idx_))]])"
   ]
  },
  {
   "cell_type": "code",
   "execution_count": 9,
   "metadata": {},
   "outputs": [
    {
     "name": "stdout",
     "output_type": "stream",
     "text": [
      "Accuracy on test data: 0.6991150442477876\n"
     ]
    }
   ],
   "source": [
    "#sfs lr acc\n",
    "clf.fit(X_train_complete[:,list(sfs3.k_feature_idx_)],y_train_complete)\n",
    "y_sfs_pred_complete = clf.predict(X_test_complete[:,list(sfs3.k_feature_idx_)])\n",
    "print(\"Accuracy on test data:\", acc(y_sfs_pred_complete,y_test_complete))"
   ]
  },
  {
   "cell_type": "code",
   "execution_count": 10,
   "metadata": {},
   "outputs": [
    {
     "name": "stdout",
     "output_type": "stream",
     "text": [
      "Accuracy on test data set using all features: 0.7079646017699115\n"
     ]
    }
   ],
   "source": [
    "clf.fit(X_train_complete[:,:],y_train_complete)\n",
    "y_all_pred_complete = clf.predict(X_test_complete[:,:])\n",
    "print(\"Accuracy on test data set using all features:\",acc(y_all_pred_complete,y_test_complete))"
   ]
  },
  {
   "cell_type": "code",
   "execution_count": 13,
   "metadata": {},
   "outputs": [
    {
     "data": {
      "image/png": "[encoded data removed]",
      "text/plain": [
       "<Figure size 432x288 with 1 Axes>"
      ]
     },
     "metadata": {
      "needs_background": "light"
     },
     "output_type": "display_data"
    }
   ],
   "source": [
    "fpr, tpr, threshold = roc_curve(y_test_complete, y_sfs_pred_complete)\n",
    "roc_auc = auc(fpr, tpr)\n",
    "plt.title('Receiver Operating Characteristic')\n",
    "plt.plot(fpr, tpr, 'b', label = 'AUC = %0.2f' % roc_auc)\n",
    "plt.legend(loc = 'lower right')\n",
    "plt.plot([0, 1], [0, 1],'r--')\n",
    "plt.xlim([0, 1])\n",
    "plt.ylim([0, 1])\n",
    "plt.ylabel('True Positive Rate')\n",
    "plt.xlabel('False Positive Rate')\n",
    "plt.show()"
   ]
  },
  {
   "cell_type": "code",
   "execution_count": null,
   "metadata": {},
   "outputs": [],
   "source": []
  }
 ],
 "metadata": {
  "kernelspec": {
   "display_name": "Python 3",
   "language": "python",
   "name": "python3"
  },
  "language_info": {
   "codemirror_mode": {
    "name": "ipython",
    "version": 3
   },
   "file_extension": ".py",
   "mimetype": "text/x-python",
   "name": "python",
   "nbconvert_exporter": "python",
   "pygments_lexer": "ipython3",
   "version": "3.7.3"
  }
 },
 "nbformat": 4,
 "nbformat_minor": 2
}
