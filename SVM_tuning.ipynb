{
 "cells": [
  {
   "cell_type": "code",
   "execution_count": 1,
   "metadata": {},
   "outputs": [],
   "source": [
    "import numpy as np\n",
    "import pandas as pd\n",
    "from sklearn.svm import SVC\n",
    "from sklearn.model_selection import TimeSeriesSplit as tscv, train_test_split\n",
    "from sklearn.metrics import accuracy_score as acc, roc_curve, auc\n",
    "from sklearn.model_selection import GridSearchCV\n",
    "from sklearn.metrics import classification_report\n",
    "import matplotlib.pyplot as plt"
   ]
  },
  {
   "cell_type": "code",
   "execution_count": 2,
   "metadata": {},
   "outputs": [],
   "source": [
    "import warnings\n",
    "warnings.filterwarnings(\"ignore\", category=DeprecationWarning)\n",
    "warnings.filterwarnings(\"ignore\", category=FutureWarning) "
   ]
  },
  {
   "cell_type": "code",
   "execution_count": 3,
   "metadata": {},
   "outputs": [],
   "source": [
    "def result_to_numeric(x):\n",
    "    if x=='W' or x=='w':\n",
    "        return 1\n",
    "    elif x=='L' or x=='l':\n",
    "        return 0"
   ]
  },
  {
   "cell_type": "code",
   "execution_count": 4,
   "metadata": {},
   "outputs": [],
   "source": [
    "# Read data\n",
    "df = pd.read_csv('completeFinalDatasetFrom79_Pruned.csv', sep=',')\n",
    "df = df.drop(['Year','TeamA','TeamB'],axis=1)\n",
    "df['WL'] = df['WL'].apply(result_to_numeric)"
   ]
  },
  {
   "cell_type": "code",
   "execution_count": 5,
   "metadata": {},
   "outputs": [
    {
     "data": {
      "text/html": [
       "<div>\n",
       "<style scoped>\n",
       "    .dataframe tbody tr th:only-of-type {\n",
       "        vertical-align: middle;\n",
       "    }\n",
       "\n",
       "    .dataframe tbody tr th {\n",
       "        vertical-align: top;\n",
       "    }\n",
       "\n",
       "    .dataframe thead th {\n",
       "        text-align: right;\n",
       "    }\n",
       "</style>\n",
       "<table border=\"1\" class=\"dataframe\">\n",
       "  <thead>\n",
       "    <tr style=\"text-align: right;\">\n",
       "      <th></th>\n",
       "      <th>O_ORebDiff</th>\n",
       "      <th>O_DRebDiff</th>\n",
       "      <th>O_AsstDiff</th>\n",
       "      <th>O_PFDiff</th>\n",
       "      <th>O_STLDiff</th>\n",
       "      <th>O_TODiff</th>\n",
       "      <th>O_BlkDiff</th>\n",
       "      <th>O_x3PMDiff</th>\n",
       "      <th>O_FGPDiff</th>\n",
       "      <th>O_FTPDiff</th>\n",
       "      <th>D_ORebDiff</th>\n",
       "      <th>D_DRebDiff</th>\n",
       "      <th>D_AsstDiff</th>\n",
       "      <th>D_PFDiff</th>\n",
       "      <th>D_BlkDiff</th>\n",
       "      <th>D_x3PMDiff</th>\n",
       "      <th>D_FTPDiff</th>\n",
       "      <th>WL</th>\n",
       "    </tr>\n",
       "  </thead>\n",
       "  <tbody>\n",
       "    <tr>\n",
       "      <th>0</th>\n",
       "      <td>-0.852744</td>\n",
       "      <td>0.220118</td>\n",
       "      <td>0.725228</td>\n",
       "      <td>-1.624636</td>\n",
       "      <td>0.502332</td>\n",
       "      <td>1.219331</td>\n",
       "      <td>-0.141657</td>\n",
       "      <td>0.239121</td>\n",
       "      <td>0.635920</td>\n",
       "      <td>1.072682</td>\n",
       "      <td>0.663973</td>\n",
       "      <td>-1.368963</td>\n",
       "      <td>1.177983</td>\n",
       "      <td>-0.134638</td>\n",
       "      <td>-0.576137</td>\n",
       "      <td>0.362318</td>\n",
       "      <td>-0.717179</td>\n",
       "      <td>1</td>\n",
       "    </tr>\n",
       "    <tr>\n",
       "      <th>1</th>\n",
       "      <td>0.624856</td>\n",
       "      <td>1.077818</td>\n",
       "      <td>0.657237</td>\n",
       "      <td>-0.524262</td>\n",
       "      <td>0.468844</td>\n",
       "      <td>-0.359382</td>\n",
       "      <td>-0.519410</td>\n",
       "      <td>0.183512</td>\n",
       "      <td>-0.240265</td>\n",
       "      <td>0.886943</td>\n",
       "      <td>0.567872</td>\n",
       "      <td>0.354402</td>\n",
       "      <td>0.037999</td>\n",
       "      <td>0.750125</td>\n",
       "      <td>-0.032008</td>\n",
       "      <td>0.024564</td>\n",
       "      <td>0.717716</td>\n",
       "      <td>1</td>\n",
       "    </tr>\n",
       "    <tr>\n",
       "      <th>2</th>\n",
       "      <td>1.771649</td>\n",
       "      <td>-2.261899</td>\n",
       "      <td>-0.802283</td>\n",
       "      <td>-1.013957</td>\n",
       "      <td>0.122792</td>\n",
       "      <td>-0.154021</td>\n",
       "      <td>0.472191</td>\n",
       "      <td>0.289170</td>\n",
       "      <td>-0.764677</td>\n",
       "      <td>-1.223977</td>\n",
       "      <td>0.366933</td>\n",
       "      <td>-1.077103</td>\n",
       "      <td>-1.491478</td>\n",
       "      <td>-0.916819</td>\n",
       "      <td>-0.464111</td>\n",
       "      <td>-0.184229</td>\n",
       "      <td>1.833909</td>\n",
       "      <td>1</td>\n",
       "    </tr>\n",
       "    <tr>\n",
       "      <th>3</th>\n",
       "      <td>-1.080633</td>\n",
       "      <td>-0.667943</td>\n",
       "      <td>0.113317</td>\n",
       "      <td>-0.190117</td>\n",
       "      <td>2.924691</td>\n",
       "      <td>2.104951</td>\n",
       "      <td>2.467195</td>\n",
       "      <td>-0.255804</td>\n",
       "      <td>1.423435</td>\n",
       "      <td>0.492501</td>\n",
       "      <td>1.057116</td>\n",
       "      <td>-2.223696</td>\n",
       "      <td>-0.147248</td>\n",
       "      <td>1.275853</td>\n",
       "      <td>-2.096500</td>\n",
       "      <td>0.116679</td>\n",
       "      <td>-0.744617</td>\n",
       "      <td>1</td>\n",
       "    </tr>\n",
       "    <tr>\n",
       "      <th>4</th>\n",
       "      <td>0.102917</td>\n",
       "      <td>1.480102</td>\n",
       "      <td>0.589247</td>\n",
       "      <td>-0.397517</td>\n",
       "      <td>-1.495834</td>\n",
       "      <td>0.064175</td>\n",
       "      <td>2.384562</td>\n",
       "      <td>-0.266926</td>\n",
       "      <td>1.496380</td>\n",
       "      <td>0.085936</td>\n",
       "      <td>0.838703</td>\n",
       "      <td>-1.424555</td>\n",
       "      <td>1.415479</td>\n",
       "      <td>-1.224563</td>\n",
       "      <td>-0.112027</td>\n",
       "      <td>-0.135102</td>\n",
       "      <td>0.450549</td>\n",
       "      <td>1</td>\n",
       "    </tr>\n",
       "  </tbody>\n",
       "</table>\n",
       "</div>"
      ],
      "text/plain": [
       "   O_ORebDiff  O_DRebDiff  O_AsstDiff  O_PFDiff  O_STLDiff  O_TODiff  \\\n",
       "0   -0.852744    0.220118    0.725228 -1.624636   0.502332  1.219331   \n",
       "1    0.624856    1.077818    0.657237 -0.524262   0.468844 -0.359382   \n",
       "2    1.771649   -2.261899   -0.802283 -1.013957   0.122792 -0.154021   \n",
       "3   -1.080633   -0.667943    0.113317 -0.190117   2.924691  2.104951   \n",
       "4    0.102917    1.480102    0.589247 -0.397517  -1.495834  0.064175   \n",
       "\n",
       "   O_BlkDiff  O_x3PMDiff  O_FGPDiff  O_FTPDiff  D_ORebDiff  D_DRebDiff  \\\n",
       "0  -0.141657    0.239121   0.635920   1.072682    0.663973   -1.368963   \n",
       "1  -0.519410    0.183512  -0.240265   0.886943    0.567872    0.354402   \n",
       "2   0.472191    0.289170  -0.764677  -1.223977    0.366933   -1.077103   \n",
       "3   2.467195   -0.255804   1.423435   0.492501    1.057116   -2.223696   \n",
       "4   2.384562   -0.266926   1.496380   0.085936    0.838703   -1.424555   \n",
       "\n",
       "   D_AsstDiff  D_PFDiff  D_BlkDiff  D_x3PMDiff  D_FTPDiff  WL  \n",
       "0    1.177983 -0.134638  -0.576137    0.362318  -0.717179   1  \n",
       "1    0.037999  0.750125  -0.032008    0.024564   0.717716   1  \n",
       "2   -1.491478 -0.916819  -0.464111   -0.184229   1.833909   1  \n",
       "3   -0.147248  1.275853  -2.096500    0.116679  -0.744617   1  \n",
       "4    1.415479 -1.224563  -0.112027   -0.135102   0.450549   1  "
      ]
     },
     "execution_count": 5,
     "metadata": {},
     "output_type": "execute_result"
    }
   ],
   "source": [
    "df.head()"
   ]
  },
  {
   "cell_type": "code",
   "execution_count": 6,
   "metadata": {},
   "outputs": [],
   "source": [
    "final_df = pd.DataFrame(df.loc[:,['O_DRebDiff', 'O_STLDiff', 'O_x3PMDiff', 'O_FTPDiff', 'D_DRebDiff', 'D_AsstDiff', 'D_PFDiff', 'D_BlkDiff','WL']])"
   ]
  },
  {
   "cell_type": "code",
   "execution_count": 7,
   "metadata": {},
   "outputs": [
    {
     "data": {
      "text/html": [
       "<div>\n",
       "<style scoped>\n",
       "    .dataframe tbody tr th:only-of-type {\n",
       "        vertical-align: middle;\n",
       "    }\n",
       "\n",
       "    .dataframe tbody tr th {\n",
       "        vertical-align: top;\n",
       "    }\n",
       "\n",
       "    .dataframe thead th {\n",
       "        text-align: right;\n",
       "    }\n",
       "</style>\n",
       "<table border=\"1\" class=\"dataframe\">\n",
       "  <thead>\n",
       "    <tr style=\"text-align: right;\">\n",
       "      <th></th>\n",
       "      <th>O_DRebDiff</th>\n",
       "      <th>O_STLDiff</th>\n",
       "      <th>O_x3PMDiff</th>\n",
       "      <th>O_FTPDiff</th>\n",
       "      <th>D_DRebDiff</th>\n",
       "      <th>D_AsstDiff</th>\n",
       "      <th>D_PFDiff</th>\n",
       "      <th>D_BlkDiff</th>\n",
       "      <th>WL</th>\n",
       "    </tr>\n",
       "  </thead>\n",
       "  <tbody>\n",
       "    <tr>\n",
       "      <th>0</th>\n",
       "      <td>0.220118</td>\n",
       "      <td>0.502332</td>\n",
       "      <td>0.239121</td>\n",
       "      <td>1.072682</td>\n",
       "      <td>-1.368963</td>\n",
       "      <td>1.177983</td>\n",
       "      <td>-0.134638</td>\n",
       "      <td>-0.576137</td>\n",
       "      <td>1</td>\n",
       "    </tr>\n",
       "    <tr>\n",
       "      <th>1</th>\n",
       "      <td>1.077818</td>\n",
       "      <td>0.468844</td>\n",
       "      <td>0.183512</td>\n",
       "      <td>0.886943</td>\n",
       "      <td>0.354402</td>\n",
       "      <td>0.037999</td>\n",
       "      <td>0.750125</td>\n",
       "      <td>-0.032008</td>\n",
       "      <td>1</td>\n",
       "    </tr>\n",
       "    <tr>\n",
       "      <th>2</th>\n",
       "      <td>-2.261899</td>\n",
       "      <td>0.122792</td>\n",
       "      <td>0.289170</td>\n",
       "      <td>-1.223977</td>\n",
       "      <td>-1.077103</td>\n",
       "      <td>-1.491478</td>\n",
       "      <td>-0.916819</td>\n",
       "      <td>-0.464111</td>\n",
       "      <td>1</td>\n",
       "    </tr>\n",
       "    <tr>\n",
       "      <th>3</th>\n",
       "      <td>-0.667943</td>\n",
       "      <td>2.924691</td>\n",
       "      <td>-0.255804</td>\n",
       "      <td>0.492501</td>\n",
       "      <td>-2.223696</td>\n",
       "      <td>-0.147248</td>\n",
       "      <td>1.275853</td>\n",
       "      <td>-2.096500</td>\n",
       "      <td>1</td>\n",
       "    </tr>\n",
       "    <tr>\n",
       "      <th>4</th>\n",
       "      <td>1.480102</td>\n",
       "      <td>-1.495834</td>\n",
       "      <td>-0.266926</td>\n",
       "      <td>0.085936</td>\n",
       "      <td>-1.424555</td>\n",
       "      <td>1.415479</td>\n",
       "      <td>-1.224563</td>\n",
       "      <td>-0.112027</td>\n",
       "      <td>1</td>\n",
       "    </tr>\n",
       "  </tbody>\n",
       "</table>\n",
       "</div>"
      ],
      "text/plain": [
       "   O_DRebDiff  O_STLDiff  O_x3PMDiff  O_FTPDiff  D_DRebDiff  D_AsstDiff  \\\n",
       "0    0.220118   0.502332    0.239121   1.072682   -1.368963    1.177983   \n",
       "1    1.077818   0.468844    0.183512   0.886943    0.354402    0.037999   \n",
       "2   -2.261899   0.122792    0.289170  -1.223977   -1.077103   -1.491478   \n",
       "3   -0.667943   2.924691   -0.255804   0.492501   -2.223696   -0.147248   \n",
       "4    1.480102  -1.495834   -0.266926   0.085936   -1.424555    1.415479   \n",
       "\n",
       "   D_PFDiff  D_BlkDiff  WL  \n",
       "0 -0.134638  -0.576137   1  \n",
       "1  0.750125  -0.032008   1  \n",
       "2 -0.916819  -0.464111   1  \n",
       "3  1.275853  -2.096500   1  \n",
       "4 -1.224563  -0.112027   1  "
      ]
     },
     "execution_count": 7,
     "metadata": {},
     "output_type": "execute_result"
    }
   ],
   "source": [
    "final_df.head()"
   ]
  },
  {
   "cell_type": "code",
   "execution_count": 8,
   "metadata": {},
   "outputs": [
    {
     "name": "stdout",
     "output_type": "stream",
     "text": [
      "0 75\n",
      "1 186\n"
     ]
    }
   ],
   "source": [
    "X_train, X_test, y_train, y_test = train_test_split(\n",
    "    final_df.values[:,:-1],\n",
    "    final_df.values[:,-1],\n",
    "    test_size=0.30,\n",
    "    random_state=42,\n",
    "    shuffle=False)\n",
    "\n",
    "y_train = y_train.astype('int')\n",
    "y_test = y_test.astype('int')\n",
    "print(\"0\",len(y_train) - np.count_nonzero(y_train))\n",
    "print(\"1\",np.count_nonzero(y_train))"
   ]
  },
  {
   "cell_type": "code",
   "execution_count": 13,
   "metadata": {},
   "outputs": [
    {
     "data": {
      "text/plain": [
       "GridSearchCV(cv=TimeSeriesSplit(max_train_size=None, n_splits=5),\n",
       "             error_score='raise-deprecating',\n",
       "             estimator=SVC(C=1.0, cache_size=200, class_weight='balanced',\n",
       "                           coef0=0.0, decision_function_shape='ovr', degree=3,\n",
       "                           gamma='auto_deprecated', kernel='linear',\n",
       "                           max_iter=-1, probability=False, random_state=None,\n",
       "                           shrinking=True, tol=0.001, verbose=False),\n",
       "             iid='warn', n_jobs=None,\n",
       "             param_grid={'C': [3.05e-05, 6.1e-05, 0.0001220703125,\n",
       "                               0.000244140625, 0.00048828125, 0.0009765625,\n",
       "                               0.001953125, 0.00390625, 0.0078125, 0.015625,\n",
       "                               0.03125, 0.0625, 0.125, 0.25, 0.5, 1, 2, 4, 8,\n",
       "                               16, 32, 64, 128, 256, 512, 1024]},\n",
       "             pre_dispatch='2*n_jobs', refit=True, return_train_score=False,\n",
       "             scoring=None, verbose=0)"
      ]
     },
     "execution_count": 13,
     "metadata": {},
     "output_type": "execute_result"
    }
   ],
   "source": [
    "#linear SVM\n",
    "parameters = {'C':[3.05e-05,6.10e-05,0.0001220703125,0.000244140625,0.00048828125,0.0009765625,0.001953125,\n",
    "                0.00390625,0.0078125,0.015625,0.03125,0.0625,0.125,0.25,0.5,1,2,4,8,16,32,64,128,256,512,1024]}\n",
    "svc = SVC(kernel='linear',class_weight='balanced')\n",
    "clf = GridSearchCV(svc, param_grid=parameters,cv=tscv(n_splits=5))\n",
    "clf.fit(X_train,y_train)"
   ]
  },
  {
   "cell_type": "code",
   "execution_count": 14,
   "metadata": {},
   "outputs": [
    {
     "data": {
      "text/plain": [
       "{'C': 0.00390625}"
      ]
     },
     "execution_count": 14,
     "metadata": {},
     "output_type": "execute_result"
    }
   ],
   "source": [
    "clf.best_params_"
   ]
  },
  {
   "cell_type": "code",
   "execution_count": 15,
   "metadata": {},
   "outputs": [
    {
     "name": "stdout",
     "output_type": "stream",
     "text": [
      "Result for Linear Kernel with best params:\n",
      "              precision    recall  f1-score   support\n",
      "\n",
      "           0       0.33      0.59      0.42        32\n",
      "           1       0.76      0.52      0.62        81\n",
      "\n",
      "    accuracy                           0.54       113\n",
      "   macro avg       0.55      0.56      0.52       113\n",
      "weighted avg       0.64      0.54      0.56       113\n",
      "\n"
     ]
    }
   ],
   "source": [
    "final_linear_svc = SVC(C=0.00390625,kernel='linear',class_weight='balanced')\n",
    "final_linear_svc.fit(X_train,y_train)\n",
    "y_preds = final_linear_svc.predict(X_test)\n",
    "print(\"Result for Linear Kernel with best params:\")\n",
    "print(classification_report(y_test,y_preds))"
   ]
  },
  {
   "cell_type": "code",
   "execution_count": 16,
   "metadata": {},
   "outputs": [
    {
     "data": {
      "image/png": "[encoded data removed]",
      "text/plain": [
       "<Figure size 432x288 with 1 Axes>"
      ]
     },
     "metadata": {
      "needs_background": "light"
     },
     "output_type": "display_data"
    }
   ],
   "source": [
    "fpr, tpr, threshold = roc_curve(y_test, y_preds)\n",
    "roc_auc = auc(fpr, tpr)\n",
    "plt.title('Receiver Operating Characteristic')\n",
    "plt.plot(fpr, tpr, 'b', label = 'AUC = %0.2f' % roc_auc)\n",
    "plt.legend(loc = 'lower right')\n",
    "plt.plot([0, 1], [0, 1],'r--')\n",
    "plt.xlim([0, 1])\n",
    "plt.ylim([0, 1])\n",
    "plt.ylabel('True Positive Rate')\n",
    "plt.xlabel('False Positive Rate')\n",
    "plt.show()"
   ]
  },
  {
   "cell_type": "code",
   "execution_count": 17,
   "metadata": {},
   "outputs": [
    {
     "data": {
      "text/plain": [
       "GridSearchCV(cv='warn', error_score='raise-deprecating',\n",
       "             estimator=SVC(C=1.0, cache_size=200, class_weight='balanced',\n",
       "                           coef0=0.0, decision_function_shape='ovr', degree=3,\n",
       "                           gamma='auto_deprecated', kernel='sigmoid',\n",
       "                           max_iter=-1, probability=False, random_state=None,\n",
       "                           shrinking=True, tol=0.001, verbose=False),\n",
       "             iid='warn', n_jobs=None,\n",
       "             param_grid={'C': [3.05e-05, 6.1e-05, 0...\n",
       "                               16, 32, 64, 128, 256, 512, 1024],\n",
       "                         'coef0': [0.0001, 0.001, 0.002, 0.01, 0.02, 0.1, 0.2,\n",
       "                                   0.3, 1, 2, 5, 10],\n",
       "                         'gamma': [3.05e-05, 6.1e-05, 0.0001220703125,\n",
       "                                   0.000244140625, 0.00048828125, 0.0009765625,\n",
       "                                   0.001953125, 0.00390625, 0.0078125, 0.015625,\n",
       "                                   0.03125, 0.0625, 0.125, 0.25, 0.5, 1, 2, 4,\n",
       "                                   8, 16, 32, 64, 128, 256, 512, 1024]},\n",
       "             pre_dispatch='2*n_jobs', refit=True, return_train_score=False,\n",
       "             scoring=None, verbose=0)"
      ]
     },
     "execution_count": 17,
     "metadata": {},
     "output_type": "execute_result"
    }
   ],
   "source": [
    "#sigmoid SVM\n",
    "parameters = {'C':[3.05e-05,6.10e-05,0.0001220703125,0.000244140625,0.00048828125,0.0009765625,0.001953125,\n",
    "                0.00390625,0.0078125,0.015625,0.03125,0.0625,0.125,0.25,0.5,1,2,4,8,16,32,64,128,256,512,1024],'gamma':[3.05e-05,6.10e-05,0.0001220703125,0.000244140625,0.00048828125,0.0009765625,0.001953125,\n",
    "                0.00390625,0.0078125,0.015625,0.03125,0.0625,0.125,0.25,0.5,1,2,4,8,16,32,64,128,256,512,1024],'coef0' : [0.0001, 0.001, 0.002, 0.01, 0.02, 0.1, 0.2, 0.3, 1, 2, 5, 10]}\n",
    "svc = SVC(kernel='sigmoid',class_weight='balanced')\n",
    "clf = GridSearchCV(svc, param_grid=parameters)\n",
    "clf.fit(X_train,y_train)"
   ]
  },
  {
   "cell_type": "code",
   "execution_count": 18,
   "metadata": {},
   "outputs": [
    {
     "data": {
      "text/plain": [
       "{'C': 0.03125, 'coef0': 1, 'gamma': 0.25}"
      ]
     },
     "execution_count": 18,
     "metadata": {},
     "output_type": "execute_result"
    }
   ],
   "source": [
    "clf.best_params_"
   ]
  },
  {
   "cell_type": "code",
   "execution_count": 19,
   "metadata": {},
   "outputs": [
    {
     "name": "stdout",
     "output_type": "stream",
     "text": [
      "Result for Sigmoid Kernel with best params:\n",
      "              precision    recall  f1-score   support\n",
      "\n",
      "           0       0.33      0.47      0.39        32\n",
      "           1       0.75      0.63      0.68        81\n",
      "\n",
      "    accuracy                           0.58       113\n",
      "   macro avg       0.54      0.55      0.54       113\n",
      "weighted avg       0.63      0.58      0.60       113\n",
      "\n"
     ]
    }
   ],
   "source": [
    "final_sigmoid_svc = SVC(C=0.03125,kernel='sigmoid',gamma=0.25,coef0=1,class_weight='balanced')\n",
    "final_sigmoid_svc.fit(X_train,y_train)\n",
    "y_preds = final_sigmoid_svc.predict(X_test)\n",
    "print(\"Result for Sigmoid Kernel with best params:\")\n",
    "print(classification_report(y_test,y_preds))"
   ]
  },
  {
   "cell_type": "code",
   "execution_count": 20,
   "metadata": {},
   "outputs": [
    {
     "data": {
      "image/png": "[encoded data removed]",
      "text/plain": [
       "<Figure size 432x288 with 1 Axes>"
      ]
     },
     "metadata": {
      "needs_background": "light"
     },
     "output_type": "display_data"
    }
   ],
   "source": [
    "fpr, tpr, threshold = roc_curve(y_test, y_preds)\n",
    "roc_auc = auc(fpr, tpr)\n",
    "plt.title('Receiver Operating Characteristic')\n",
    "plt.plot(fpr, tpr, 'b', label = 'AUC = %0.2f' % roc_auc)\n",
    "plt.legend(loc = 'lower right')\n",
    "plt.plot([0, 1], [0, 1],'r--')\n",
    "plt.xlim([0, 1])\n",
    "plt.ylim([0, 1])\n",
    "plt.ylabel('True Positive Rate')\n",
    "plt.xlabel('False Positive Rate')\n",
    "plt.show()"
   ]
  },
  {
   "cell_type": "code",
   "execution_count": 21,
   "metadata": {},
   "outputs": [
    {
     "data": {
      "text/plain": [
       "GridSearchCV(cv='warn', error_score='raise-deprecating',\n",
       "             estimator=SVC(C=1.0, cache_size=200, class_weight='balanced',\n",
       "                           coef0=0.0, decision_function_shape='ovr', degree=3,\n",
       "                           gamma='auto_deprecated', kernel='rbf', max_iter=-1,\n",
       "                           probability=False, random_state=None, shrinking=True,\n",
       "                           tol=0.001, verbose=False),\n",
       "             iid='warn', n_jobs=None,\n",
       "             param_grid={'C': [3.05e-05, 6.1e-05, 0.000...\n",
       "                               0.001953125, 0.00390625, 0.0078125, 0.015625,\n",
       "                               0.03125, 0.0625, 0.125, 0.25, 0.5, 1, 2, 4, 8,\n",
       "                               16, 32, 64, 128, 256, 512, 1024],\n",
       "                         'gamma': [3.05e-05, 6.1e-05, 0.0001220703125,\n",
       "                                   0.000244140625, 0.00048828125, 0.0009765625,\n",
       "                                   0.001953125, 0.00390625, 0.0078125, 0.015625,\n",
       "                                   0.03125, 0.0625, 0.125, 0.25, 0.5, 1, 2, 4,\n",
       "                                   8, 16, 32, 64, 128, 256, 512, 1024]},\n",
       "             pre_dispatch='2*n_jobs', refit=True, return_train_score=False,\n",
       "             scoring=None, verbose=0)"
      ]
     },
     "execution_count": 21,
     "metadata": {},
     "output_type": "execute_result"
    }
   ],
   "source": [
    "#rbf SVM\n",
    "parameters = {'C':[3.05e-05,6.10e-05,0.0001220703125,0.000244140625,0.00048828125,0.0009765625,0.001953125,\n",
    "                0.00390625,0.0078125,0.015625,0.03125,0.0625,0.125,0.25,0.5,1,2,4,8,16,32,64,128,256,512,1024],'gamma':[3.05e-05,6.10e-05,0.0001220703125,0.000244140625,0.00048828125,0.0009765625,0.001953125,\n",
    "                0.00390625,0.0078125,0.015625,0.03125,0.0625,0.125,0.25,0.5,1,2,4,8,16,32,64,128,256,512,1024]}\n",
    "svc = SVC(kernel='rbf',class_weight='balanced')\n",
    "clf = GridSearchCV(svc, param_grid=parameters)\n",
    "clf.fit(X_train,y_train)"
   ]
  },
  {
   "cell_type": "code",
   "execution_count": 22,
   "metadata": {},
   "outputs": [
    {
     "data": {
      "text/plain": [
       "{'C': 0.25, 'gamma': 0.00390625}"
      ]
     },
     "execution_count": 22,
     "metadata": {},
     "output_type": "execute_result"
    }
   ],
   "source": [
    "clf.best_params_"
   ]
  },
  {
   "cell_type": "code",
   "execution_count": 23,
   "metadata": {},
   "outputs": [
    {
     "name": "stdout",
     "output_type": "stream",
     "text": [
      "Result for RBF Kernel with best params:\n",
      "              precision    recall  f1-score   support\n",
      "\n",
      "           0       0.31      0.62      0.41        32\n",
      "           1       0.75      0.44      0.56        81\n",
      "\n",
      "    accuracy                           0.50       113\n",
      "   macro avg       0.53      0.53      0.49       113\n",
      "weighted avg       0.62      0.50      0.52       113\n",
      "\n"
     ]
    }
   ],
   "source": [
    "final_rbf_svc = SVC(C=0.25,kernel='rbf',gamma=0.0390625,class_weight='balanced')\n",
    "final_rbf_svc.fit(X_train,y_train)\n",
    "y_preds = final_rbf_svc.predict(X_test)\n",
    "print(\"Result for RBF Kernel with best params:\")\n",
    "print(classification_report(y_test,y_preds))"
   ]
  },
  {
   "cell_type": "code",
   "execution_count": 24,
   "metadata": {},
   "outputs": [
    {
     "data": {
      "image/png": "[encoded data removed]",
      "text/plain": [
       "<Figure size 432x288 with 1 Axes>"
      ]
     },
     "metadata": {
      "needs_background": "light"
     },
     "output_type": "display_data"
    }
   ],
   "source": [
    "fpr, tpr, threshold = roc_curve(y_test, y_preds)\n",
    "roc_auc = auc(fpr, tpr)\n",
    "plt.title('Receiver Operating Characteristic')\n",
    "plt.plot(fpr, tpr, 'b', label = 'AUC = %0.2f' % roc_auc)\n",
    "plt.legend(loc = 'lower right')\n",
    "plt.plot([0, 1], [0, 1],'r--')\n",
    "plt.xlim([0, 1])\n",
    "plt.ylim([0, 1])\n",
    "plt.ylabel('True Positive Rate')\n",
    "plt.xlabel('False Positive Rate')\n",
    "plt.show()"
   ]
  },
  {
   "cell_type": "code",
   "execution_count": null,
   "metadata": {},
   "outputs": [],
   "source": []
  }
 ],
 "metadata": {
  "kernelspec": {
   "display_name": "Python 3",
   "language": "python",
   "name": "python3"
  },
  "language_info": {
   "codemirror_mode": {
    "name": "ipython",
    "version": 3
   },
   "file_extension": ".py",
   "mimetype": "text/x-python",
   "name": "python",
   "nbconvert_exporter": "python",
   "pygments_lexer": "ipython3",
   "version": "3.7.3"
  }
 },
 "nbformat": 4,
 "nbformat_minor": 2
}
