{
 "cells": [
  {
   "cell_type": "code",
   "execution_count": 1,
   "metadata": {},
   "outputs": [
    {
     "name": "stderr",
     "output_type": "stream",
     "text": [
      "Using TensorFlow backend.\n"
     ]
    }
   ],
   "source": [
    "import numpy as np\n",
    "import matplotlib.pyplot as plt\n",
    "import pandas as pd\n",
    "import random\n",
    "import tensorflow as tf\n",
    "from tensorflow.keras.models import Sequential\n",
    "from tensorflow.keras.layers import Dense, GlobalMaxPool1D, LSTM, Dropout, Bidirectional, BatchNormalization\n",
    "from sklearn.model_selection import train_test_split\n",
    "from sklearn.metrics import accuracy_score as acc\n",
    "from tensorflow.keras.optimizers import Adam\n",
    "from keras.wrappers.scikit_learn import KerasClassifier\n",
    "from sklearn.model_selection import GridSearchCV, TimeSeriesSplit\n",
    "from tensorflow.keras.callbacks import ModelCheckpoint, TensorBoard\n",
    "import os\n",
    "from datetime import datetime"
   ]
  },
  {
   "cell_type": "code",
   "execution_count": 2,
   "metadata": {},
   "outputs": [
    {
     "name": "stdout",
     "output_type": "stream",
     "text": [
      "2.0.0\n"
     ]
    }
   ],
   "source": [
    "print(tf.__version__)"
   ]
  },
  {
   "cell_type": "code",
   "execution_count": 3,
   "metadata": {},
   "outputs": [],
   "source": [
    "tscv = TimeSeriesSplit(n_splits=5)\n",
    "seed = 7\n",
    "np.random.seed(seed)\n",
    "random.seed(seed)\n",
    "tf.random.set_seed(seed)\n",
    "\n",
    "folder = os.path.join(os.getcwd(), datetime.now().strftime(\"%d-%m-%Y_%H-%M-%S\"))\n",
    "history_file = folder + \"\\rnn_\" + \".h5\"\n",
    "save_callback = ModelCheckpoint(filepath=history_file, verbose=1)\n",
    "tb_callback = TensorBoard(log_dir=folder)"
   ]
  },
  {
   "cell_type": "code",
   "execution_count": 4,
   "metadata": {},
   "outputs": [],
   "source": [
    "def result_to_numeric(x):\n",
    "    if x=='W' or x=='w':\n",
    "        return 1\n",
    "    elif x=='L' or x=='l':\n",
    "        return 0"
   ]
  },
  {
   "cell_type": "code",
   "execution_count": 5,
   "metadata": {},
   "outputs": [
    {
     "name": "stdout",
     "output_type": "stream",
     "text": [
      "   O_ORebDiff  O_DRebDiff  O_AsstDiff  O_PFDiff  O_STLDiff  O_TODiff  \\\n",
      "0   -0.852744    0.220118    0.725228 -1.624636   0.502332  1.219331   \n",
      "1    0.624856    1.077818    0.657237 -0.524262   0.468844 -0.359382   \n",
      "2    1.771649   -2.261899   -0.802283 -1.013957   0.122792 -0.154021   \n",
      "3   -1.080633   -0.667943    0.113317 -0.190117   2.924691  2.104951   \n",
      "4    0.102917    1.480102    0.589247 -0.397517  -1.495834  0.064175   \n",
      "\n",
      "   O_BlkDiff  O_x3PMDiff  O_FGPDiff  O_FTPDiff  D_ORebDiff  D_DRebDiff  \\\n",
      "0  -0.141657    0.239121   0.635920   1.072682    0.663973   -1.368963   \n",
      "1  -0.519410    0.183512  -0.240265   0.886943    0.567872    0.354402   \n",
      "2   0.472191    0.289170  -0.764677  -1.223977    0.366933   -1.077103   \n",
      "3   2.467195   -0.255804   1.423435   0.492501    1.057116   -2.223696   \n",
      "4   2.384562   -0.266926   1.496380   0.085936    0.838703   -1.424555   \n",
      "\n",
      "   D_AsstDiff  D_PFDiff  D_BlkDiff  D_x3PMDiff  D_FTPDiff  WL  \n",
      "0    1.177983 -0.134638  -0.576137    0.362318  -0.717179   1  \n",
      "1    0.037999  0.750125  -0.032008    0.024564   0.717716   1  \n",
      "2   -1.491478 -0.916819  -0.464111   -0.184229   1.833909   1  \n",
      "3   -0.147248  1.275853  -2.096500    0.116679  -0.744617   1  \n",
      "4    1.415479 -1.224563  -0.112027   -0.135102   0.450549   1  \n"
     ]
    }
   ],
   "source": [
    "# Read data\n",
    "df = pd.read_csv('completeFinalDatasetFrom79_Pruned.csv', sep=',')\n",
    "df = df.drop(['Year','TeamA','TeamB'],axis=1)\n",
    "df['WL'] = df['WL'].apply(result_to_numeric)\n",
    "print(df.head())"
   ]
  },
  {
   "cell_type": "code",
   "execution_count": 6,
   "metadata": {},
   "outputs": [],
   "source": [
    "X_train_complete, X_test_complete, y_train_complete, y_test_complete = train_test_split(\n",
    "    df.values[:,:-1],\n",
    "    df.values[:,-1],\n",
    "    test_size=0.30,\n",
    "    random_state=7,\n",
    "    shuffle=False)"
   ]
  },
  {
   "cell_type": "code",
   "execution_count": 7,
   "metadata": {},
   "outputs": [],
   "source": [
    "X_train_complete, X_val_complete, y_train_complete, y_val_complete = train_test_split(\n",
    "    X_train_complete,\n",
    "    y_train_complete,\n",
    "    test_size=0.1,\n",
    "    random_state=7,\n",
    "    shuffle=False)"
   ]
  },
  {
   "cell_type": "code",
   "execution_count": 8,
   "metadata": {},
   "outputs": [],
   "source": [
    "X_train_complete = np.reshape(X_train_complete,(X_train_complete.shape[0],1,X_train_complete.shape[1]))\n",
    "X_test_complete = np.reshape(X_test_complete,(X_test_complete.shape[0],1,X_test_complete.shape[1]))\n",
    "X_val_complete = np.reshape(X_val_complete,(X_val_complete.shape[0],1,X_val_complete.shape[1]))"
   ]
  },
  {
   "cell_type": "code",
   "execution_count": 9,
   "metadata": {},
   "outputs": [],
   "source": [
    "y_train_complete = np.reshape(y_train_complete,(y_train_complete.shape[0],1))\n",
    "y_test_complete = np.reshape(y_test_complete,(y_test_complete.shape[0],1))\n",
    "y_val_complete = np.reshape(y_val_complete,(y_val_complete.shape[0],1))"
   ]
  },
  {
   "cell_type": "code",
   "execution_count": 10,
   "metadata": {},
   "outputs": [],
   "source": [
    "def build_model(lstm_neurons,activation_1,activation_2,learning_rate,dropout):\n",
    "    model = Sequential()\n",
    "    model.add(Bidirectional(LSTM(lstm_neurons, return_sequences=True)))\n",
    "    model.add(Dense(32,activation=activation_1))\n",
    "    model.add(Dropout(dropout))\n",
    "    model.add(GlobalMaxPool1D())\n",
    "    model.add(Dense(16,activation=activation_2))\n",
    "    model.add(Dense(1,activation='sigmoid'))\n",
    "    model.compile(loss='binary_crossentropy', optimizer=Adam(lr=learning_rate),metrics=['acc'])\n",
    "    return model"
   ]
  },
  {
   "cell_type": "code",
   "execution_count": 11,
   "metadata": {},
   "outputs": [],
   "source": [
    "def train_model(model, x_train, y_train, x_val, y_val, BATCH_SIZE, NUM_EPOCHS):\n",
    "    history = model.fit(\n",
    "        x=x_train,\n",
    "        y=y_train,\n",
    "        batch_size=BATCH_SIZE,\n",
    "        epochs=NUM_EPOCHS,\n",
    "        shuffle=True,\n",
    "        validation_data=(x_val, y_val),\n",
    "        #callbacks=[save_callback, tb_callback],\n",
    "        verbose=2\n",
    "    )\n",
    "    history_dict = history.history\n",
    "    train_accuracy = history_dict[\"acc\"]\n",
    "    train_loss = history_dict[\"loss\"]\n",
    "    valid_accuracy = history_dict[\"val_acc\"]\n",
    "    valid_loss = history_dict[\"val_loss\"]\n",
    "    return train_accuracy, train_loss, valid_accuracy, valid_loss"
   ]
  },
  {
   "cell_type": "code",
   "execution_count": 12,
   "metadata": {},
   "outputs": [],
   "source": [
    "def test_model(model, x_test, y_test):\n",
    "    # predictions with test set\n",
    "    predictions = model.predict(\n",
    "        x=x_test,\n",
    "        batch_size=None,\n",
    "        verbose=0\n",
    "    )\n",
    "    predictions = np.round(predictions)\n",
    "    predictions = predictions.astype(int)\n",
    "    test_accuracy = acc(y_test,predictions)\n",
    "    return test_accuracy,predictions"
   ]
  },
  {
   "cell_type": "code",
   "execution_count": null,
   "metadata": {},
   "outputs": [],
   "source": [
    "model =  KerasClassifier(build_fn=build_model,lstm_neurons=9,activation_1='relu',activation_2='relu',learning_rate=0.001,dropout=0.5,verbose=2)"
   ]
  },
  {
   "cell_type": "code",
   "execution_count": null,
   "metadata": {},
   "outputs": [],
   "source": [
    "train_accuracy, train_loss, valid_accuracy, valid_loss = train_model(model,\n",
    "                                    X_train_complete,y_train_complete,\n",
    "                                    X_val_complete,y_val_complete,\n",
    "                                    3,11,save_callback,tb_callback)"
   ]
  },
  {
   "cell_type": "code",
   "execution_count": null,
   "metadata": {},
   "outputs": [],
   "source": [
    "test_accuracy, predictions = test_model(model, X_test_complete, y_test_complete)\n",
    "# save test set results and print accuracy\n",
    "print(test_accuracy)"
   ]
  },
  {
   "cell_type": "code",
   "execution_count": null,
   "metadata": {},
   "outputs": [],
   "source": [
    "################################################################################\n",
    "# Visualization and Output\n",
    "num_epochs_plot = range(1, len(train_accuracy) + 1)\n",
    "\n",
    "# Loss curves\n",
    "plt.figure(1)\n",
    "plt.plot(num_epochs_plot, train_loss, \"b\", label=\"Training Loss\")\n",
    "plt.plot(num_epochs_plot, valid_loss, \"r\", label=\"Validation Loss\")\n",
    "plt.title(\"Loss Curves\")\n",
    "plt.xlabel(\"Number of Epochs\")\n",
    "plt.ylabel(\"Loss\")\n",
    "plt.legend()\n",
    "plt.savefig('Plots/rnnLoss.png')\n",
    "plt.show()"
   ]
  },
  {
   "cell_type": "code",
   "execution_count": null,
   "metadata": {},
   "outputs": [],
   "source": [
    "plt.figure(2)\n",
    "plt.plot(num_epochs_plot, train_accuracy, \"b\", label=\"Training Accuracy\")\n",
    "plt.plot(num_epochs_plot, valid_accuracy, \"r\", label=\"Validation Accuracy\")\n",
    "plt.title(\"Accuracy Curves_\")\n",
    "plt.xlabel(\"Number of Epochs\")\n",
    "plt.ylabel(\"Accuracy\")\n",
    "plt.legend()\n",
    "plt.savefig('Plots/rnnAcc.png')\n",
    "plt.show()"
   ]
  },
  {
   "cell_type": "code",
   "execution_count": null,
   "metadata": {},
   "outputs": [],
   "source": [
    "from sklearn.metrics import accuracy_score as acc, roc_curve,auc\n",
    "fpr, tpr, threshold = roc_curve(y_test_complete, predictions)\n",
    "roc_auc = auc(fpr, tpr)\n",
    "plt.title('Receiver Operating Characteristic')\n",
    "plt.plot(fpr, tpr, 'b', label = 'AUC = %0.2f' % roc_auc)\n",
    "plt.legend(loc = 'lower right')\n",
    "plt.plot([0, 1], [0, 1],'r--')\n",
    "plt.xlim([0, 1])\n",
    "plt.ylim([0, 1])\n",
    "plt.ylabel('True Positive Rate')\n",
    "plt.xlabel('False Positive Rate')\n",
    "\n",
    "plt.savefig('Plots/rnnAUC.png')\n",
    "plt.show()"
   ]
  },
  {
   "cell_type": "code",
   "execution_count": 15,
   "metadata": {},
   "outputs": [
    {
     "name": "stdout",
     "output_type": "stream",
     "text": [
      "Train on 234 samples, validate on 27 samples\n",
      "Epoch 1/10\n",
      "234/234 - 4s - loss: 0.6719 - acc: 0.6197 - val_loss: 0.6086 - val_acc: 0.8148\n",
      "Epoch 2/10\n",
      "234/234 - 0s - loss: 0.6208 - acc: 0.7009 - val_loss: 0.5363 - val_acc: 0.8148\n",
      "Epoch 3/10\n",
      "234/234 - 0s - loss: 0.5793 - acc: 0.7051 - val_loss: 0.4972 - val_acc: 0.8148\n",
      "Epoch 4/10\n",
      "234/234 - 0s - loss: 0.5602 - acc: 0.7009 - val_loss: 0.4694 - val_acc: 0.8148\n",
      "Epoch 5/10\n",
      "234/234 - 0s - loss: 0.5515 - acc: 0.7009 - val_loss: 0.4544 - val_acc: 0.8148\n",
      "Epoch 6/10\n",
      "234/234 - 0s - loss: 0.5346 - acc: 0.7051 - val_loss: 0.4436 - val_acc: 0.8148\n",
      "Epoch 7/10\n",
      "234/234 - 0s - loss: 0.5223 - acc: 0.6966 - val_loss: 0.4334 - val_acc: 0.8148\n",
      "Epoch 8/10\n",
      "234/234 - 0s - loss: 0.4983 - acc: 0.7393 - val_loss: 0.4148 - val_acc: 0.8148\n",
      "Epoch 9/10\n",
      "234/234 - 0s - loss: 0.4931 - acc: 0.7393 - val_loss: 0.4248 - val_acc: 0.8519\n",
      "Epoch 10/10\n",
      "234/234 - 0s - loss: 0.4749 - acc: 0.7821 - val_loss: 0.4077 - val_acc: 0.8148\n",
      "Train on 234 samples, validate on 27 samples\n",
      "Epoch 1/10\n",
      "234/234 - 4s - loss: 0.6618 - acc: 0.6154 - val_loss: 0.5371 - val_acc: 0.8148\n",
      "Epoch 2/10\n",
      "234/234 - 0s - loss: 0.5782 - acc: 0.7009 - val_loss: 0.4534 - val_acc: 0.8148\n",
      "Epoch 3/10\n",
      "234/234 - 0s - loss: 0.5451 - acc: 0.7179 - val_loss: 0.4106 - val_acc: 0.8148\n",
      "Epoch 4/10\n",
      "234/234 - 0s - loss: 0.5159 - acc: 0.7350 - val_loss: 0.4410 - val_acc: 0.8519\n",
      "Epoch 5/10\n",
      "234/234 - 0s - loss: 0.4958 - acc: 0.7778 - val_loss: 0.4089 - val_acc: 0.8148\n",
      "Epoch 6/10\n",
      "234/234 - 0s - loss: 0.4478 - acc: 0.7991 - val_loss: 0.4570 - val_acc: 0.7407\n",
      "Epoch 7/10\n",
      "234/234 - 0s - loss: 0.4395 - acc: 0.7991 - val_loss: 0.4244 - val_acc: 0.7778\n",
      "Epoch 8/10\n",
      "234/234 - 0s - loss: 0.3944 - acc: 0.8333 - val_loss: 0.4783 - val_acc: 0.8148\n",
      "Epoch 9/10\n",
      "234/234 - 0s - loss: 0.3646 - acc: 0.8590 - val_loss: 0.5494 - val_acc: 0.7778\n",
      "Epoch 10/10\n",
      "234/234 - 0s - loss: 0.3324 - acc: 0.8547 - val_loss: 0.5763 - val_acc: 0.8148\n",
      "Train on 234 samples, validate on 27 samples\n",
      "Epoch 1/10\n",
      "234/234 - 4s - loss: 0.6307 - acc: 0.6581 - val_loss: 0.4832 - val_acc: 0.8148\n",
      "Epoch 2/10\n",
      "234/234 - 0s - loss: 0.5715 - acc: 0.7051 - val_loss: 0.4679 - val_acc: 0.8148\n",
      "Epoch 3/10\n",
      "234/234 - 0s - loss: 0.5365 - acc: 0.7350 - val_loss: 0.4046 - val_acc: 0.8519\n",
      "Epoch 4/10\n",
      "234/234 - 0s - loss: 0.4877 - acc: 0.7692 - val_loss: 0.3978 - val_acc: 0.7778\n",
      "Epoch 5/10\n",
      "234/234 - 0s - loss: 0.4427 - acc: 0.7821 - val_loss: 0.3662 - val_acc: 0.8148\n",
      "Epoch 6/10\n",
      "234/234 - 0s - loss: 0.4238 - acc: 0.7949 - val_loss: 0.4642 - val_acc: 0.7037\n",
      "Epoch 7/10\n",
      "234/234 - 0s - loss: 0.3463 - acc: 0.8803 - val_loss: 0.5719 - val_acc: 0.6667\n",
      "Epoch 8/10\n",
      "234/234 - 0s - loss: 0.2996 - acc: 0.8718 - val_loss: 0.4875 - val_acc: 0.7407\n",
      "Epoch 9/10\n",
      "234/234 - 0s - loss: 0.2776 - acc: 0.8889 - val_loss: 0.5154 - val_acc: 0.7407\n",
      "Epoch 10/10\n",
      "234/234 - 0s - loss: 0.2474 - acc: 0.8974 - val_loss: 0.5488 - val_acc: 0.7037\n"
     ]
    }
   ],
   "source": [
    "import time\n",
    "param_val = [0.001,0.003,0.005]\n",
    "parm = 'Learning Rate'\n",
    "val_train_loss = np.zeros(len(param_val))\n",
    "val_train_acc = np.zeros(len(param_val))\n",
    "val_valid_acc = np.zeros(len(param_val))\n",
    "val_valid_loss = np.zeros(len(param_val))\n",
    "train_time = np.zeros(len(param_val))\n",
    "\n",
    "# Build and train the model and record validation and loss statistics for each value of the hyperparameter\n",
    "# Make sure to add the [val] index after the hyper parameter that will be tuned.\n",
    "for val, param in enumerate(param_val):\n",
    "    model =  KerasClassifier(build_fn=build_model,lstm_neurons=9,activation_1='relu',\n",
    "                             activation_2='relu',learning_rate=param_val[val],dropout=0.5,verbose=1)\n",
    "    t0 = time.time()\n",
    "    train_accuracy, train_loss, valid_accuracy, valid_loss = train_model(model,\n",
    "                                    X_train_complete,y_train_complete,\n",
    "                                    X_val_complete,y_val_complete,\n",
    "                                    4,10)\n",
    "    t1 = time.time()\n",
    "    train_time[val] = t1-t0\n",
    "    val_train_loss[val] = train_loss[-1]\n",
    "    val_train_acc[val] = train_accuracy[-1]\n",
    "    val_valid_loss[val] = valid_loss[-1]\n",
    "    val_valid_acc[val] = valid_accuracy[-1]"
   ]
  },
  {
   "cell_type": "code",
   "execution_count": 16,
   "metadata": {},
   "outputs": [
    {
     "data": {
      "image/png": "[encoded data removed]",
      "text/plain": [
       "<Figure size 432x288 with 1 Axes>"
      ]
     },
     "metadata": {
      "needs_background": "light"
     },
     "output_type": "display_data"
    }
   ],
   "source": [
    "\n",
    "# Visualization and Output\n",
    "plt.figure(2)\n",
    "plt.plot(param_val, val_train_acc, \"b\", label=\"Training Accuracy\")\n",
    "plt.plot(param_val, val_valid_acc, \"r\", label=\"Validation Accuracy\")\n",
    "plt.title(\"Accuracy Curves for different \" + parm)\n",
    "plt.xlabel(\"Parameter Values\")\n",
    "plt.ylabel(\"Accuracy\")\n",
    "plt.legend()\n",
    "plt.savefig('Plots/' + parm + '_acc.png')\n",
    "#plt.show()"
   ]
  },
  {
   "cell_type": "code",
   "execution_count": null,
   "metadata": {},
   "outputs": [],
   "source": []
  }
 ],
 "metadata": {
  "kernelspec": {
   "display_name": "Python 3",
   "language": "python",
   "name": "python3"
  },
  "language_info": {
   "codemirror_mode": {
    "name": "ipython",
    "version": 3
   },
   "file_extension": ".py",
   "mimetype": "text/x-python",
   "name": "python",
   "nbconvert_exporter": "python",
   "pygments_lexer": "ipython3",
   "version": "3.7.3"
  }
 },
 "nbformat": 4,
 "nbformat_minor": 2
}
