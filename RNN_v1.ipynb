{
 "cells": [
  {
   "cell_type": "code",
   "execution_count": 11,
   "metadata": {},
   "outputs": [],
   "source": [
    "import numpy as np\n",
    "import matplotlib.pyplot as plt\n",
    "import pandas as pd\n",
    "import math\n",
    "from keras.models import Sequential\n",
    "from keras.layers import Dense\n",
    "from keras.layers import LSTM\n",
    "from sklearn.model_selection import train_test_split\n",
    "from sklearn.metrics import accuracy_score as acc"
   ]
  },
  {
   "cell_type": "code",
   "execution_count": 5,
   "metadata": {},
   "outputs": [],
   "source": [
    "def result_to_numeric(x):\n",
    "    if x=='W' or x=='w':\n",
    "        return 1\n",
    "    elif x=='L' or x=='l':\n",
    "        return 0"
   ]
  },
  {
   "cell_type": "code",
   "execution_count": 6,
   "metadata": {},
   "outputs": [
    {
     "name": "stdout",
     "output_type": "stream",
     "text": [
      "   O_ORebDiff  O_DRebDiff  O_AsstDiff  O_PFDiff  O_STLDiff  O_TODiff  \\\n",
      "0   -0.852744    0.220118    0.725228 -1.624636   0.502332  1.219331   \n",
      "1    0.624856    1.077818    0.657237 -0.524262   0.468844 -0.359382   \n",
      "2    1.771649   -2.261899   -0.802283 -1.013957   0.122792 -0.154021   \n",
      "3   -1.080633   -0.667943    0.113317 -0.190117   2.924691  2.104951   \n",
      "4    0.102917    1.480102    0.589247 -0.397517  -1.495834  0.064175   \n",
      "\n",
      "   O_BlkDiff  O_x3PMDiff  O_FGPDiff  O_FTPDiff  D_ORebDiff  D_DRebDiff  \\\n",
      "0  -0.141657    0.239121   0.635920   1.072682    0.663973   -1.368963   \n",
      "1  -0.519410    0.183512  -0.240265   0.886943    0.567872    0.354402   \n",
      "2   0.472191    0.289170  -0.764677  -1.223977    0.366933   -1.077103   \n",
      "3   2.467195   -0.255804   1.423435   0.492501    1.057116   -2.223696   \n",
      "4   2.384562   -0.266926   1.496380   0.085936    0.838703   -1.424555   \n",
      "\n",
      "   D_AsstDiff  D_PFDiff  D_BlkDiff  D_x3PMDiff  D_FTPDiff  WL  \n",
      "0    1.177983 -0.134638  -0.576137    0.362318  -0.717179   1  \n",
      "1    0.037999  0.750125  -0.032008    0.024564   0.717716   1  \n",
      "2   -1.491478 -0.916819  -0.464111   -0.184229   1.833909   1  \n",
      "3   -0.147248  1.275853  -2.096500    0.116679  -0.744617   1  \n",
      "4    1.415479 -1.224563  -0.112027   -0.135102   0.450549   1  \n"
     ]
    }
   ],
   "source": [
    "# Read data\n",
    "df = pd.read_csv('completeFinalDatasetFrom79_Pruned.csv', sep=',')\n",
    "df = df.drop(['Year','TeamA','TeamB'],axis=1)\n",
    "df['WL'] = df['WL'].apply(result_to_numeric)\n",
    "print(df.head())"
   ]
  },
  {
   "cell_type": "code",
   "execution_count": 12,
   "metadata": {},
   "outputs": [],
   "source": [
    "X_train_complete, X_test_complete, y_train_complete, y_test_complete = train_test_split(\n",
    "    df.values[:,:-1],\n",
    "    df.values[:,-1],\n",
    "    test_size=0.30,\n",
    "    random_state=42,\n",
    "    shuffle=False)"
   ]
  },
  {
   "cell_type": "code",
   "execution_count": null,
   "metadata": {},
   "outputs": [],
   "source": [
    "model = Sequential()\n",
    "model.add(LSTM(4,)\n",
    "model.add(Dense(1))\n",
    "model.compile(loss='mean_squared_error', optimizer='adam')\n",
    "model.fit(X_train_complete, X_test_complete, epochs=10, batch_size=8, verbose=2)"
   ]
  }
 ],
 "metadata": {
  "kernelspec": {
   "display_name": "Python 3",
   "language": "python",
   "name": "python3"
  },
  "language_info": {
   "codemirror_mode": {
    "name": "ipython",
    "version": 3
   },
   "file_extension": ".py",
   "mimetype": "text/x-python",
   "name": "python",
   "nbconvert_exporter": "python",
   "pygments_lexer": "ipython3",
   "version": "3.7.3"
  }
 },
 "nbformat": 4,
 "nbformat_minor": 2
}
